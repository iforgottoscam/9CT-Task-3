{
 "cells": [
  {
   "cell_type": "markdown",
   "id": "49e62fe0",
   "metadata": {},
   "source": [
    "### Requirements: Functional and Non-Functional\n",
    "****\n",
    "#### Functional Requirements: \n",
    "1. Data Scope: The included domains, entities, attributes and the time periods that must be included?\n",
    "2. Data structure and scheme: The required fields, the data types, formats and relationships in the dataset. \n",
    "3. Validational Rules: The rules for acceptable values, formats and relationships.\n",
    "\n",
    "#### Non-Functional Requirements: \n",
    "1. Data Quality: The accuracy, consistency and validity of the dataset. \n",
    "2. Performance: Speed for data access and the repsonse time to questions. \n",
    "3. Scalability: ability to handle consistently growing volumes without degredation. \n",
    "\n",
    "\n",
    "   "
   ]
  },
  {
   "cell_type": "markdown",
   "id": "3fcd9ec8",
   "metadata": {},
   "source": [
    "### The issue: Supermarkets have raised their prices on essential goods faster than inflation has rised.\n",
    "****\n",
    "Over the last couple of years, the prices on essential goods in supermarkets have gone up very high. In fact even higher than inflation. This means that mean while the overall cost of living is going up in a moderate pace, the prices on essential goods such as bread, milk, fruit and vegetables are going up at a much faster speed, which puts higher financial strain on families. An example of this includes the general inflation rate in Australia as in June 2025, the rate of inflation was 2.1%, but dairy prices rose by nearly 15%, while bread and cereal went up by 11.7% year-on-year. This whole topic on supermarkets raising their prices is sort of like running on a treadmill that keeps on speeding up. While you may be able to keep in pace with inflation, but when supermarkets groceries accelerate at an even higehr speed, families will feel as if they're being forced to sprint just to afford the basics. "
   ]
  },
  {
   "cell_type": "markdown",
   "id": "a6902b2b",
   "metadata": {},
   "source": [
    "#### Data Dictionary\n",
    "***\n",
    "| Field Name   | Data type | Description                                          | \n",
    "|--------------|-----------|------------------------------------------------------|\n",
    "| Date         | String    | Month or quarter of observation                      |\n",
    "| Region       | String    | Geographich area (NSW,Sydney,VIC)                    |\n",
    "| Product name | String    | Name of the specific product                         |\n",
    "| Product group| String    | Category of product (e.g. bread, milk, fruits, eggs) |   \n",
    "| Total spend  | Float     | Total money spend on the product in the period       |\n",
    "| Pack size    | Float     | Size or quantity of the item                         |\n"
   ]
  },
  {
   "cell_type": "markdown",
   "id": "19dd7ac4",
   "metadata": {},
   "source": [
    "### Testing and evaluating \n",
    "****\n",
    "##### SEE-I Paragraph\n",
    "Global food prices had significantly influenced by the inflation tred of Australia. This meant that when food prices rised internationally, they contribute to higher pricess domestically, espescially in the CPI's food-related components. An example includes when in 2022, both the FAO Food Price Index and Australias CPI had taken a sharp spike, which showed parallel resonse to global economic pressures. This is kind of like a ripple effect. When the global food markets experience disruption, the shockwaves reach Australian households with things such as higher grocery bills and inflation. \n",
    "\n",
    "##### Peer evaluation\n",
    "Oscar's repository\n",
    "\n",
    "| Positive                        | Minus                     | Implication                              |\n",
    "|---------------------------------|---------------------------|------------------------------------------|\n",
    "| 1. A very good graph and diagram| 1. Code was quite basic   | 1. Good for basics                       |\n",
    "| 2. Good Jupyter notebook        |                           | 2. Easy to understand for beginners      |\n",
    "| 3. Good 3-tiered mind map       |                           | 3. More complex code next time           |\n",
    "\n",
    "##### Self-evaluation of task\n",
    "\n",
    "This task was well structured and met the functional and non-functional requirements of this task. In relation to feedback from peers, it was pretty similar to waht I have to evaluate on my project. The management of this task was pretty good as timelines and risks were handled well. The data is valid with high accuracy and the right information in the correct time frames. My data is also made sure to be unbiased with real, authentic information. There isn't necesscarily a need to improve its security and the UX is quitre accescible for that matter. "
   ]
  }
 ],
 "metadata": {
  "kernelspec": {
   "display_name": "Python 3",
   "language": "python",
   "name": "python3"
  },
  "language_info": {
   "codemirror_mode": {
    "name": "ipython",
    "version": 3
   },
   "file_extension": ".py",
   "mimetype": "text/x-python",
   "name": "python",
   "nbconvert_exporter": "python",
   "pygments_lexer": "ipython3",
   "version": "3.13.3"
  }
 },
 "nbformat": 4,
 "nbformat_minor": 5
}

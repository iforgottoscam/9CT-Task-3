{
 "cells": [
  {
   "cell_type": "markdown",
   "id": "49e62fe0",
   "metadata": {},
   "source": [
    "### Requirements: Functional and Non-Functional\n",
    "****\n",
    "#### Functional Requirements: \n",
    "1. Data Scope: The included domains, entities, attributes and the time periods that must be included?\n",
    "2. Data structure and scheme: The required fields, the data types, formats and relationships in the dataset. \n",
    "3. Validational Rules: The rules for acceptable values, formats and relationships.\n",
    "\n",
    "#### Non-Functional Requirements: \n",
    "1. Data Quality: The accuracy, consistency and validity of the dataset. \n",
    "2. Performance: Speed for data access and the repsonse time to questions. \n",
    "3. Scalability: ability to handle consistently growing volumes without degredation. \n",
    "\n",
    "\n",
    "   "
   ]
  },
  {
   "cell_type": "markdown",
   "id": "3fcd9ec8",
   "metadata": {},
   "source": [
    "### The issue: Supermarkets have raised their prices on essential goods faster than inflation has rised.\n",
    "****\n",
    "Over the last couple of years, the prices on essential goods in supermarkets have gone up very high. In fact even higher than inflation. This means that mean while the overall cost of living is going up in a moderate pace, the prices on essential goods such as bread, milk, fruit and vegetables are going up at a much faster speed, which puts higher financial strain on families. An example of this includes the general inflation rate in Australia as in June 2025, the rate of inflation was 2.1%, but dairy prices rose by nearly 15%, while bread and cereal went up by 11.7% year-on-year. This whole topic on supermarkets raising their prices is sort of like running on a treadmill that keeps on speeding up. While you may be able to keep in pace with inflation, but when supermarkets groceries accelerate at an even higehr speed, families will feel as if they're being forced to sprint just to afford the basics. "
   ]
  },
  {
   "cell_type": "markdown",
   "id": "2f6aba9e",
   "metadata": {},
   "source": [
    "#### Dataset\n",
    "https://www.rba.gov.au/education/resources/digital-interactives/inflation-explorer\n",
    "\n",
    "https://www.abs.gov.au/statistics/research/recent-applications-supermarket-scanner-data-national-accounts"
   ]
  },
  {
   "cell_type": "markdown",
   "id": "a6902b2b",
   "metadata": {},
   "source": [
    "#### Data Dictionary\n",
    "***\n",
    "| Field Name   | Data type | Description                                          | \n",
    "|--------------|-----------|------------------------------------------------------|\n",
    "| Date         | String    | Month or quarter of observation                      |\n",
    "| Region       | String    | Geographich area (NSW,Sydney,VIC)                    |\n",
    "| Product name | String    | Name of the specific product                         |\n",
    "| Product group| String    | Category of product (e.g. bread, milk, fruits, eggs) |   \n",
    "| Total spend  | Float     | Total money spend on the product in the period       |\n",
    "| Pack size    | Float     | Size or quantity of the item                         |"
   ]
  }
 ],
 "metadata": {
  "kernelspec": {
   "display_name": "Python 3",
   "language": "python",
   "name": "python3"
  },
  "language_info": {
   "codemirror_mode": {
    "name": "ipython",
    "version": 3
   },
   "file_extension": ".py",
   "mimetype": "text/x-python",
   "name": "python",
   "nbconvert_exporter": "python",
   "pygments_lexer": "ipython3",
   "version": "3.13.3"
  }
 },
 "nbformat": 4,
 "nbformat_minor": 5
}
